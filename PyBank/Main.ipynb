{
 "cells": [
  {
   "cell_type": "code",
   "execution_count": 4,
   "metadata": {},
   "outputs": [
    {
     "name": "stdout",
     "output_type": "stream",
     "text": [
      "Financial Analysis\n",
      "-----------------------\n",
      "Total Months: 86\n",
      "Total: $38382578\n",
      "Average Change: $-2315\n",
      "Greatest Increase in Profits: ($1926159)\n",
      "Greatest Decrease in Profits: ($-2196167)\n"
     ]
    }
   ],
   "source": [
    "import os\n",
    "import csv\n",
    "import pandas as pd\n",
    "import numpy as np\n",
    "\n",
    "#path for CSV file\n",
    "csvpath = (\"budget_data.csv\")\n",
    "#Read CSV into Panadas and give it a variable name\n",
    "Bank_pd = pd.read_csv(csvpath, parse_dates=True)\n",
    "\n",
    "#Number of months\n",
    "Months = Bank_pd[\"Date\"].count()\n",
    "\n",
    "#Total amount of revenue\n",
    "Total_Funds = '${:.0f}'.format(Bank_pd[\"Profit/Losses\"].sum())\n",
    "\n",
    "#Determine the amount of increase or decrease from the previous month\n",
    "AmtChange = Bank_pd[\"Profit/Losses\"].diff()\n",
    "Bank_pd[\"Amount Changed\"] = AmtChange\n",
    "\n",
    "#Calculate Average revenue\n",
    "RevenueChanges = '${:.0f}'.format(Bank_pd[\"Amount Changed\"].mean())\n",
    "\n",
    "#Identify the greatest positive change\n",
    "GreatestIncrease = '${:.0f}'.format(Bank_pd[\"Amount Changed\"].max())\n",
    "\n",
    "#Identify the greatest negative change\n",
    "GreatestDecrease =  '${:.0f}'.format(Bank_pd[\"Amount Changed\"].min())\n",
    "\n",
    "print(\"Financial Analysis\")\n",
    "print(\"-----------------------\")\n",
    "print(f\"Total Months: {Months}\")\n",
    "print(f\"Total: {Total_Funds}\")\n",
    "print(f\"Average Change: {RevenueChanges}\")\n",
    "print(f\"Greatest Increase in Profits: ({GreatestIncrease})\")\n",
    "print(f\"Greatest Decrease in Profits: ({GreatestDecrease})\")\n",
    "      \n",
    "#Set output file name\n",
    "txt_file = \"budget_data.txt\"\n",
    "#Open the output path as a file object\n",
    "with open(txt_file, \"w\") as txt_file:\n",
    "    txt_file.write(f\"Total Months: {Months}.\\n\")\n",
    "    txt_file.write(f\"Total: {Total_Funds}.\\n\")\n",
    "    txt_file.write(f\"Average Change: {RevenueChanges}.\\n\")\n",
    "    txt_file.write(f\"Greatest Increase in Profits: {GreatestIncrease}.\\n\")\n",
    "    txt_file.write(f\"Greatest Decrease in Profits: {GreatestDecrease}.\\n\")"
   ]
  },
  {
   "cell_type": "code",
   "execution_count": null,
   "metadata": {},
   "outputs": [],
   "source": []
  }
 ],
 "metadata": {
  "kernelspec": {
   "display_name": "Python 3",
   "language": "python",
   "name": "python3"
  },
  "language_info": {
   "codemirror_mode": {
    "name": "ipython",
    "version": 3
   },
   "file_extension": ".py",
   "mimetype": "text/x-python",
   "name": "python",
   "nbconvert_exporter": "python",
   "pygments_lexer": "ipython3",
   "version": "3.7.7"
  }
 },
 "nbformat": 4,
 "nbformat_minor": 4
}
