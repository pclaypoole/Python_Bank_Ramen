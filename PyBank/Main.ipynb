{
 "cells": [
  {
   "cell_type": "code",
   "execution_count": 11,
   "metadata": {},
   "outputs": [
    {
     "ename": "TypeError",
     "evalue": "'int' object is not subscriptable",
     "output_type": "error",
     "traceback": [
      "\u001b[0;31m---------------------------------------------------------------------------\u001b[0m",
      "\u001b[0;31mTypeError\u001b[0m                                 Traceback (most recent call last)",
      "\u001b[0;32m<ipython-input-11-e9ee3928e8e3>\u001b[0m in \u001b[0;36m<module>\u001b[0;34m\u001b[0m\n\u001b[1;32m     43\u001b[0m \u001b[0;34m\u001b[0m\u001b[0m\n\u001b[1;32m     44\u001b[0m \u001b[0;31m#Determine greatest increase and greatest decrease in profits/losses\u001b[0m\u001b[0;34m\u001b[0m\u001b[0;34m\u001b[0m\u001b[0;34m\u001b[0m\u001b[0m\n\u001b[0;32m---> 45\u001b[0;31m         \u001b[0;32mif\u001b[0m \u001b[0;34m(\u001b[0m\u001b[0mrevenue_changes\u001b[0m \u001b[0;34m>\u001b[0m \u001b[0mmaximum\u001b[0m\u001b[0;34m[\u001b[0m\u001b[0;36m1\u001b[0m\u001b[0;34m]\u001b[0m\u001b[0;34m)\u001b[0m\u001b[0;34m:\u001b[0m\u001b[0;34m\u001b[0m\u001b[0;34m\u001b[0m\u001b[0m\n\u001b[0m\u001b[1;32m     46\u001b[0m             \u001b[0mmaximum\u001b[0m\u001b[0;34m[\u001b[0m\u001b[0;36m1\u001b[0m\u001b[0;34m]\u001b[0m \u001b[0;34m=\u001b[0m \u001b[0mrevenue_changes\u001b[0m\u001b[0;34m\u001b[0m\u001b[0;34m\u001b[0m\u001b[0m\n\u001b[1;32m     47\u001b[0m             \u001b[0mmaximum\u001b[0m\u001b[0;34m[\u001b[0m\u001b[0;36m0\u001b[0m\u001b[0;34m]\u001b[0m \u001b[0;34m=\u001b[0m \u001b[0mrow\u001b[0m\u001b[0;34m[\u001b[0m\u001b[0;34m\"Date\"\u001b[0m\u001b[0;34m]\u001b[0m\u001b[0;34m\u001b[0m\u001b[0;34m\u001b[0m\u001b[0m\n",
      "\u001b[0;31mTypeError\u001b[0m: 'int' object is not subscriptable"
     ]
    }
   ],
   "source": [
    "#Import CSV\n",
    "import csv\n",
    "\n",
    "#Load file \n",
    "csv_file = \"budget_data.csv\"\n",
    "\n",
    "#Set Variables\n",
    "total_months = 0\n",
    "total_revenue = 0\n",
    "\n",
    "revenue_change = 0\n",
    "total_revenue_change = 0\n",
    "minimum = 0\n",
    "maximum = 0\n",
    "\n",
    "revenue_changes = []\n",
    "\n",
    "#Read Files and Loop through rows of data\n",
    "with open(csv_file, \"r\") as csvfile:\n",
    "    csvreader = csv.reader(csvfile, delimiter=\",\")\n",
    "    csv_header = next(csvreader)\n",
    "    #print the header\n",
    "    \n",
    "    for row in csvreader:\n",
    "        # Print the row\n",
    "\n",
    "        # Set the 'date' and 'revenue' variables for better\n",
    "        # readability, convert strings to ints for numerical calculations\n",
    "        date = row[0]\n",
    "        Profit_Losses = int(row[1])\n",
    "        \n",
    "#Calculate total months & total revenue\n",
    "        total_months = total_months + 1\n",
    "        total_revenue = total_revenue + Profit_Losses\n",
    "        \n",
    "#Calculate Average revenue\n",
    "#First calculate 'revenue changes' in Profit/Losses\n",
    "        if total_months > 1:\n",
    "            revenue_changes = Profit_Losses - previous_Profit_Losses\n",
    "#Then calculate 'total revenue change'\n",
    "            total_revenue_change = total_revenue_change + revenue_changes\n",
    "        previous_Profit_Losses = Profit_Losses\n",
    "\n",
    "#Determine greatest increase and greatest decrease in profits/losses\n",
    "        if (revenue_changes > maximum[1]):\n",
    "            maximum[1] = revenue_changes\n",
    "            maximum[0] = row[\"Date\"]\n",
    "        \n",
    "        if (revenue_change < minimum[1]):\n",
    "            minimum[1] = revenue_changes\n",
    "            minimum[0] = row[\"Date\"]\n",
    "\n",
    "#Print total months, total revenue, average change in revenue, greatest increase and decrease in profits.\n",
    "print(\"Financial Analysis\")\n",
    "print(\"-----------------------\")\n",
    "print(f\"Total Months: {total_months}\")    \n",
    "print(f\"Total: {total_revenue}\")\n",
    "print(f\"Average Change: {round(total_revenue_change / (total_months - 1),2)}\")\n",
    "print(f\"Greatest Increase in Profits: {maximum}\")\n",
    "print(f\"Greatest Decrease in Profits: {minimum}\")\n",
    "\n",
    "#Set output file name\n",
    "txt_file = \"budget_data.txt\"\n",
    "\n",
    "#Open the output path as a file object\n",
    "with open(txt_file, \"w\") as txt_file:\n",
    "    txt_file.write(f\"Total Months: {total_months}.\\n\")\n",
    "    txt_file.write(f\"Total: {total_revenue}.\\n\")\n",
    "    txt_file.write(f\"Average Change: {round(total_revenue_change / (total_months - 1),2)}.\\n\")\n",
    "    txt_file.write(f\"Greatest Increase in Profits: {maximum}.\\n\")\n",
    "    txt_file.write(f\"Greatest Decrease in Profits: {minimum}.\\n\")"
   ]
  },
  {
   "cell_type": "code",
   "execution_count": null,
   "metadata": {},
   "outputs": [],
   "source": []
  }
 ],
 "metadata": {
  "kernelspec": {
   "display_name": "Python 3",
   "language": "python",
   "name": "python3"
  },
  "language_info": {
   "codemirror_mode": {
    "name": "ipython",
    "version": 3
   },
   "file_extension": ".py",
   "mimetype": "text/x-python",
   "name": "python",
   "nbconvert_exporter": "python",
   "pygments_lexer": "ipython3",
   "version": "3.7.7"
  }
 },
 "nbformat": 4,
 "nbformat_minor": 4
}
